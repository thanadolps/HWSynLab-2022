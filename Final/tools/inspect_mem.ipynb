{
 "cells": [
  {
   "cell_type": "code",
   "execution_count": 23,
   "metadata": {},
   "outputs": [],
   "source": [
    "from pathlib import Path\n",
    "import numpy as np"
   ]
  },
  {
   "cell_type": "code",
   "execution_count": 24,
   "metadata": {},
   "outputs": [
    {
     "name": "stdout",
     "output_type": "stream",
     "text": [
      "[PosixPath('../Final.srcs/sources_1/new/0.mem'), PosixPath('../Final.srcs/sources_1/new/1.mem'), PosixPath('../Final.srcs/sources_1/new/2.mem'), PosixPath('../Final.srcs/sources_1/new/3.mem'), PosixPath('../Final.srcs/sources_1/new/4.mem'), PosixPath('../Final.srcs/sources_1/new/5.mem'), PosixPath('../Final.srcs/sources_1/new/6.mem'), PosixPath('../Final.srcs/sources_1/new/7.mem'), PosixPath('../Final.srcs/sources_1/new/8.mem'), PosixPath('../Final.srcs/sources_1/new/9.mem'), PosixPath('../Final.srcs/sources_1/new/add.mem'), PosixPath('../Final.srcs/sources_1/new/bg.mem'), PosixPath('../Final.srcs/sources_1/new/div.mem'), PosixPath('../Final.srcs/sources_1/new/eq.mem'), PosixPath('../Final.srcs/sources_1/new/mul.mem'), PosixPath('../Final.srcs/sources_1/new/sub.mem')]\n"
     ]
    }
   ],
   "source": [
    "mem_paths = sorted(p for p in Path(\"../Final.srcs/sources_1/new/\").iterdir() if p.name.endswith(\".mem\"))\n",
    "print(mem_paths)"
   ]
  },
  {
   "cell_type": "code",
   "execution_count": 25,
   "metadata": {},
   "outputs": [
    {
     "name": "stdout",
     "output_type": "stream",
     "text": [
      "0.mem: [158, 90]\n",
      "1.mem: [158, 58]\n",
      "2.mem: [158, 87]\n",
      "3.mem: [158, 91]\n",
      "4.mem: [158, 99]\n",
      "5.mem: [158, 90]\n",
      "6.mem: [158, 92]\n",
      "7.mem: [158, 81]\n",
      "8.mem: [158, 94]\n",
      "9.mem: [158, 90]\n",
      "add.mem: [158, 96]\n",
      "bg.mem: [240, 960]\n",
      "div.mem: [158, 77]\n",
      "eq.mem: [158, 76]\n",
      "mul.mem: [158, 60]\n",
      "sub.mem: [158, 62]\n"
     ]
    }
   ],
   "source": [
    "for path in mem_paths:\n",
    "    with open(path) as file:\n",
    "        name = path.name\n",
    "\n",
    "        content = file.read()\n",
    "        line = content.splitlines()\n",
    "\n",
    "        print(f\"{name}: [{len(line)}, {len(line[0].replace(' ', ''))}]\")\n"
   ]
  }
 ],
 "metadata": {
  "interpreter": {
   "hash": "c9b331834caea015b00ef836b329143fad26c810777fb4cd8b2cec8fd927d17e"
  },
  "kernelspec": {
   "display_name": "Python 3.9.13 ('base')",
   "language": "python",
   "name": "python3"
  },
  "language_info": {
   "codemirror_mode": {
    "name": "ipython",
    "version": 3
   },
   "file_extension": ".py",
   "mimetype": "text/x-python",
   "name": "python",
   "nbconvert_exporter": "python",
   "pygments_lexer": "ipython3",
   "version": "3.9.13"
  },
  "orig_nbformat": 4
 },
 "nbformat": 4,
 "nbformat_minor": 2
}
